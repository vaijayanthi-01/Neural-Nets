{
  "nbformat": 4,
  "nbformat_minor": 0,
  "metadata": {
    "colab": {
      "provenance": []
    },
    "kernelspec": {
      "name": "python3",
      "display_name": "Python 3"
    },
    "language_info": {
      "name": "python"
    }
  },
  "cells": [
    {
      "cell_type": "code",
      "execution_count": null,
      "metadata": {
        "colab": {
          "base_uri": "https://localhost:8080/"
        },
        "id": "C3v1e9Aobec7",
        "outputId": "f61ea2c7-6955-4560-f6e7-fe05e193cf1d"
      },
      "outputs": [
        {
          "output_type": "stream",
          "name": "stdout",
          "text": [
            "0.610639233949222\n"
          ]
        }
      ],
      "source": [
        "import math\n",
        "\n",
        "def sigmoid(x):\n",
        "  y = 1.0 / (1 + math.exp(-x))\n",
        "  return y\n",
        "\n",
        "def activate(inputs, weights):\n",
        "  #performs net inputs\n",
        "  h = 0\n",
        "  for x, w in zip(inputs, weights):\n",
        "    h += x*w\n",
        "  \n",
        "  #performs activation\n",
        "  return sigmoid(h)\n",
        "\n",
        "\n",
        "if __name__ == \"__main__\":\n",
        "  inputs = [0.5, 0.3, 0.2]\n",
        "  weights = [0.4, 0.7, 0.2]\n",
        "  output = activate(inputs, weights)\n",
        "  print(output)"
      ]
    }
  ]
}