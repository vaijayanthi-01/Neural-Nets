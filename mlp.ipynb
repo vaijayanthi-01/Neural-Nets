{
  "nbformat": 4,
  "nbformat_minor": 0,
  "metadata": {
    "colab": {
      "provenance": []
    },
    "kernelspec": {
      "name": "python3",
      "display_name": "Python 3"
    },
    "language_info": {
      "name": "python"
    }
  },
  "cells": [
    {
      "cell_type": "code",
      "execution_count": null,
      "metadata": {
        "colab": {
          "base_uri": "https://localhost:8080/"
        },
        "id": "hRZwmDStdMi_",
        "outputId": "0d196892-368f-4219-fc47-527595e51836"
      },
      "outputs": [
        {
          "output_type": "stream",
          "name": "stdout",
          "text": [
            "The network input: [0.11749862 0.82699172 0.91949394]\n",
            "The network output: [0.68707596 0.70455136]\n"
          ]
        }
      ],
      "source": [
        "import numpy as np\n",
        "\n",
        "class MLP(object):\n",
        "  def __init__(self, num_inputs = 3, hidden_layers = [3, 3], num_outputs = 2):\n",
        "    self.num_inputs = num_inputs\n",
        "    self.hidden_layers = hidden_layers\n",
        "    self.num_outputs = num_outputs\n",
        "\n",
        "    layers = [num_inputs] + hidden_layers + [num_outputs]\n",
        "\n",
        "    weights = []\n",
        "    for i in range(len(layers)-1):\n",
        "      w = np.random.rand(layers[i], layers[i+1])\n",
        "      weights.append(w)\n",
        "    self.weights = weights\n",
        "  \n",
        "  def forward_propagate(self, inputs):\n",
        "    activations = inputs\n",
        "\n",
        "    for w in self.weights:\n",
        "      net_inputs = np.dot(activations, w)\n",
        "      activations = self._sigmoid(net_inputs)\n",
        "    \n",
        "    return activations\n",
        "  \n",
        "  def _sigmoid(self, x):\n",
        "    y = 1.0 / (1 + np.exp(-x))\n",
        "    return y\n",
        "\n",
        "if __name__ == \"__main__\":\n",
        "  mlp = MLP()\n",
        "  inputs = np.random.rand(mlp.num_inputs)\n",
        "  output = mlp.forward_propagate(inputs)\n",
        "  print(\"The network input: {}\".format(inputs))\n",
        "  print(\"The network output: {}\".format(output))"
      ]
    }
  ]
}